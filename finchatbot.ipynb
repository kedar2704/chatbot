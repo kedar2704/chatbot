{
  "cells": [
    {
      "cell_type": "markdown",
      "metadata": {
        "id": "view-in-github",
        "colab_type": "text"
      },
      "source": [
        "<a href=\"https://colab.research.google.com/github/kedar2704/chatbot/blob/main/finchatbot.ipynb\" target=\"_parent\"><img src=\"https://colab.research.google.com/assets/colab-badge.svg\" alt=\"Open In Colab\"/></a>"
      ]
    },
    {
      "cell_type": "code",
      "execution_count": null,
      "id": "2b4ee9f7-a3b5-48e1-8f80-8877e6499618",
      "metadata": {
        "id": "2b4ee9f7-a3b5-48e1-8f80-8877e6499618"
      },
      "outputs": [],
      "source": [
        "import pandas as pd"
      ]
    },
    {
      "cell_type": "code",
      "execution_count": null,
      "id": "dc41ce5e-969e-471d-b9f2-8de5dd0843c5",
      "metadata": {
        "id": "dc41ce5e-969e-471d-b9f2-8de5dd0843c5"
      },
      "outputs": [],
      "source": [
        "df = pd.read_csv(R'C:\\Users\\kedar belhe\\OneDrive\\Documents\\ds\\financial_data1.csv')"
      ]
    },
    {
      "cell_type": "code",
      "execution_count": null,
      "id": "0a181c3f-af78-4e9c-9fe0-d3c06e813b47",
      "metadata": {
        "id": "0a181c3f-af78-4e9c-9fe0-d3c06e813b47"
      },
      "outputs": [],
      "source": [
        "df['Revenue Growth (%)'] = df.groupby(['Company'])['Total Revenue (USD B)'].pct_change() * 100\n",
        "df['Net Income Growth (%)'] = df.groupby(['Company'])['Net Income (USD B)'].pct_change() * 100"
      ]
    },
    {
      "cell_type": "code",
      "execution_count": null,
      "id": "4e376b45-d92f-445a-80b3-7732da4fc3ba",
      "metadata": {
        "id": "4e376b45-d92f-445a-80b3-7732da4fc3ba",
        "outputId": "db16ac78-fdc8-48ac-dbc6-e8fc6cfe0ddd"
      },
      "outputs": [
        {
          "name": "stdout",
          "output_type": "stream",
          "text": [
            "     Company  Fiscal Year  Total Revenue (USD B)  Net Income (USD B)  \\\n",
            "0  Microsoft         2021                168.000              61.200   \n",
            "1  Microsoft         2022                198.000              72.700   \n",
            "2  Microsoft         2023                211.000              72.300   \n",
            "3      Tesla         2021                 53.823               5.519   \n",
            "4      Tesla         2022                 81.462              12.556   \n",
            "5      Tesla         2023                 96.773              14.997   \n",
            "6      Apple         2021                365.000              94.600   \n",
            "7      Apple         2022                394.000              99.800   \n",
            "8      Apple         2023                383.000              96.900   \n",
            "\n",
            "   Total Assets (USD B)  Total Liabilities (USD B)  \\\n",
            "0               333.000                      191.0   \n",
            "1               364.000                      198.0   \n",
            "2               411.000                      198.0   \n",
            "3                62.131                       30.0   \n",
            "4                82.338                       35.0   \n",
            "5               106.618                       40.0   \n",
            "6               351.000                      287.0   \n",
            "7               352.000                      302.0   \n",
            "8               352.000                      302.0   \n",
            "\n",
            "   Cash Flow from Operating Activities (USD B)  Revenue Growth (USD B) (%)  \\\n",
            "0                                       76.700                    0.000000   \n",
            "1                                       89.000                   17.857143   \n",
            "2                                       89.000                    6.565657   \n",
            "3                                       11.497                    0.000000   \n",
            "4                                       14.724                   51.351653   \n",
            "5                                       14.724                   18.795267   \n",
            "6                                      104.000                    0.000000   \n",
            "7                                      122.200                    7.945205   \n",
            "8                                      122.200                   -2.791878   \n",
            "\n",
            "   Net Income Growth (USD B) (%)  \n",
            "0                       0.000000  \n",
            "1                      18.790850  \n",
            "2                      -0.550206  \n",
            "3                       0.000000  \n",
            "4                     127.504983  \n",
            "5                      19.440905  \n",
            "6                       0.000000  \n",
            "7                       5.496829  \n",
            "8                      -2.905812  \n",
            "\n",
            "Year-over-Year Average Growth Rates (%):\n",
            "     Company  Revenue Growth (USD B) (%)  Net Income Growth (USD B) (%)\n",
            "0      Apple                    1.717776                       0.863672\n",
            "1  Microsoft                    8.140933                       6.080214\n",
            "2      Tesla                   23.382306                      48.981963\n"
          ]
        }
      ],
      "source": [
        "import pandas as pd\n",
        "\n",
        "# Load the data from the Excel spreadsheet\n",
        "file_path = r'C:\\Users\\kedar belhe\\OneDrive\\Documents\\ds\\financial_data1.csvC:\\Users\\kedar belhe\\OneDrive\\Documents\\ds\\financial_data1.csv'\n",
        "df = pd.read_csv(R'C:\\Users\\kedar belhe\\OneDrive\\Documents\\ds\\financial_data1.csv')\n",
        "\n",
        "# Calculate year-over-year growth rates for Total Revenue and Net Income\n",
        "df['Revenue Growth (USD B) (%)'] = df.groupby('Company')['Total Revenue (USD B)'].pct_change() * 100\n",
        "df['Net Income Growth (USD B) (%)'] = df.groupby('Company')['Net Income (USD B)'].pct_change() * 100\n",
        "\n",
        "# Fill NA values that result from pct_change calculations with 0 or an appropriate value\n",
        "df.fillna(0, inplace=True)\n",
        "\n",
        "# Display the dataframe to verify the calculations\n",
        "print(df)\n",
        "\n",
        "# Optionally, you could summarize these findings for each company\n",
        "summary = df.groupby('Company').agg({\n",
        "    'Revenue Growth (USD B) (%)': 'mean',\n",
        "    'Net Income Growth (USD B) (%)': 'mean'\n",
        "}).reset_index()\n",
        "\n",
        "print(\"\\nYear-over-Year Average Growth Rates (%):\")\n",
        "print(summary)"
      ]
    },
    {
      "cell_type": "code",
      "execution_count": null,
      "id": "1646b6f7-d1f4-4d9e-ace2-8cd5392be982",
      "metadata": {
        "id": "1646b6f7-d1f4-4d9e-ace2-8cd5392be982",
        "outputId": "8a77009f-bb76-469f-a5f6-28f12d521db7"
      },
      "outputs": [
        {
          "name": "stdin",
          "output_type": "stream",
          "text": [
            "Ask a financial question (or type 'exit'):  What is the total revenue (USD B) ?\n"
          ]
        },
        {
          "name": "stdout",
          "output_type": "stream",
          "text": [
            "Sorry, I can only provide information on predefined queries.\n"
          ]
        },
        {
          "name": "stdin",
          "output_type": "stream",
          "text": [
            "Ask a financial question (or type 'exit'):  \n"
          ]
        },
        {
          "name": "stdout",
          "output_type": "stream",
          "text": [
            "Sorry, I can only provide information on predefined queries.\n"
          ]
        },
        {
          "name": "stdin",
          "output_type": "stream",
          "text": [
            "Ask a financial question (or type 'exit'):  What is the total revenue (USD B) ?\n"
          ]
        },
        {
          "name": "stdout",
          "output_type": "stream",
          "text": [
            "Sorry, I can only provide information on predefined queries.\n"
          ]
        },
        {
          "name": "stdin",
          "output_type": "stream",
          "text": [
            "Ask a financial question (or type 'exit'):  What is the Total Revenue (USD B)?\n"
          ]
        },
        {
          "name": "stdout",
          "output_type": "stream",
          "text": [
            "Sorry, I can only provide information on predefined queries.\n"
          ]
        },
        {
          "name": "stdin",
          "output_type": "stream",
          "text": [
            "Ask a financial question (or type 'exit'):  How has Net Income changed (USD B)\n"
          ]
        },
        {
          "name": "stdout",
          "output_type": "stream",
          "text": [
            "Sorry, I can only provide information on predefined queries.\n"
          ]
        },
        {
          "name": "stdin",
          "output_type": "stream",
          "text": [
            "Ask a financial question (or type 'exit'):  How has Net Income changed (USD B)\n"
          ]
        },
        {
          "name": "stdout",
          "output_type": "stream",
          "text": [
            "Sorry, I can only provide information on predefined queries.\n"
          ]
        },
        {
          "name": "stdin",
          "output_type": "stream",
          "text": [
            "Ask a financial question (or type 'exit'):  \n"
          ]
        },
        {
          "name": "stdout",
          "output_type": "stream",
          "text": [
            "Sorry, I can only provide information on predefined queries.\n"
          ]
        }
      ],
      "source": [
        "import pandas as pd\n",
        "\n",
        "# Load the data\n",
        "df = pd.read_csv(R'C:\\Users\\kedar belhe\\OneDrive\\Documents\\ds\\financial_data1.csv')\n",
        "\n",
        "# Analyze the data\n",
        "Net Income (USD B) = df['Net Income (USD B)'].sum()\n",
        "Total Revenue (USD B) = df['Net Income (USD B)'].pct_change().iloc[-1] * 100\n",
        "Total Revenue (USD B) = \"Total Revenue (USD B)\" if salary_change > 0 else \"decreased\"\n",
        "\n",
        "# Define the chatbot\n",
        "def simple_chatbot(user_query):\n",
        "    if user_query == \"What is the Total Revenue (USD B)?\":\n",
        "        return f\"The Total Revenue (USD B) is {total_salary (USD B)}.\"\n",
        "    elif user_query == \"How has Net Income changed (USD B) over the last year?\":\n",
        "        return f\"The Net Income (USD B) has {salary_change_direction} by {abs(salary_change):.2f}% over the last year.\"\n",
        "    elif user_query == \"What is the average salary?\":\n",
        "        return f\"The average salary is {df['salary'].mean():.2f}.\"\n",
        "    elif user_query == \"What is the maximum salary?\":\n",
        "        return f\"The maximum salary is {df['salary'].max()}.\"\n",
        "    elif user_query == \"What is the minimum salary?\":\n",
        "        return f\"The minimum salary is {df['salary'].min()}.\"\n",
        "    else:\n",
        "        return \"Sorry, I can only provide information on predefined queries.\"\n",
        "\n",
        "# Test interaction\n",
        "if __name__ == \"__main__\":\n",
        "    while True:\n",
        "        user_input = input(\"Ask a financial question (or type 'exit'): \")\n",
        "        if user_input.lower() == \"exit\":\n",
        "            break\n",
        "        print(simple_chatbot(user_input))\n"
      ]
    },
    {
      "cell_type": "code",
      "execution_count": null,
      "id": "51c6d623-9ab9-4333-a8fd-e11e0ef4efd9",
      "metadata": {
        "id": "51c6d623-9ab9-4333-a8fd-e11e0ef4efd9"
      },
      "outputs": [],
      "source": [
        "print(simple_chatbot(\"What is the total revenue (USD B)?\"))\n",
        "print(simple_chatbot(\"How has Net Income changed over the last year?\"))"
      ]
    },
    {
      "cell_type": "code",
      "execution_count": null,
      "id": "d81a9674-b7b4-44a3-85e4-c8f90a9cb991",
      "metadata": {
        "id": "d81a9674-b7b4-44a3-85e4-c8f90a9cb991"
      },
      "outputs": [],
      "source": []
    }
  ],
  "metadata": {
    "kernelspec": {
      "display_name": "Python 3 (ipykernel)",
      "language": "python",
      "name": "python3"
    },
    "language_info": {
      "codemirror_mode": {
        "name": "ipython",
        "version": 3
      },
      "file_extension": ".py",
      "mimetype": "text/x-python",
      "name": "python",
      "nbconvert_exporter": "python",
      "pygments_lexer": "ipython3",
      "version": "3.12.3"
    },
    "colab": {
      "provenance": [],
      "include_colab_link": true
    }
  },
  "nbformat": 4,
  "nbformat_minor": 5
}